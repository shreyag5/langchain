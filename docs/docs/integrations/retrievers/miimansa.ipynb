{
 "cells": [
  {
   "cell_type": "markdown",
   "metadata": {},
   "source": [
    "# Miimansa Clinical Text Retriever   \n"
   ]
  },
  {
   "cell_type": "markdown",
   "metadata": {},
   "source": [
    "In this notebook, we demonstrate the functionality of the MiimansaClinicalTextRetriever. This tool is designed to enhance the retrieval of clinical texts by leveraging a pre-existing question bank. The process involves checking if a similar question is present in the question bank, and if found, returning the corresponding context. Otherwise, it retrieves the top_k most relevant contexts for the given query using a traditional Retrieval-Augmented Generation (RAG) approach."
   ]
  },
  {
   "cell_type": "code",
   "execution_count": 1,
   "metadata": {},
   "outputs": [],
   "source": [
    "import warnings\n",
    "\n",
    "warnings.filterwarnings(\"ignore\")"
   ]
  },
  {
   "cell_type": "markdown",
   "metadata": {},
   "source": [
    "### DEFINE VARIABLES"
   ]
  },
  {
   "cell_type": "code",
   "execution_count": 13,
   "metadata": {},
   "outputs": [],
   "source": [
    "DB_PATH = \"question_bank.csv\"\n",
    "METADATA_PATH = \"./output/metadata.pkl\"\n",
    "VECTOR_DB_PATH = \"./output\"\n",
    "DIRECT_HIT_MODEL = \"mixedbread-ai/mxbai-embed-large-v1\""
   ]
  },
  {
   "cell_type": "markdown",
   "metadata": {},
   "source": [
    "## Dataset Creation : Question-Bank \n",
    "The dataset should contain columns:\n",
    "- context: This includes the passages or contexts from which questions are generated.\n",
    "- generated_question: This contains a set of questions generated from each context, possibly using language models (LLMs)."
   ]
  },
  {
   "cell_type": "markdown",
   "metadata": {},
   "source": [
    "### Example Dataset"
   ]
  },
  {
   "cell_type": "code",
   "execution_count": 6,
   "metadata": {},
   "outputs": [],
   "source": [
    "import pandas as pd\n",
    "\n",
    "pd.set_option(\"display.max_colwidth\", None)"
   ]
  },
  {
   "cell_type": "code",
   "execution_count": 7,
   "metadata": {},
   "outputs": [
    {
     "data": {
      "text/html": [
       "<div>\n",
       "<style scoped>\n",
       "    .dataframe tbody tr th:only-of-type {\n",
       "        vertical-align: middle;\n",
       "    }\n",
       "\n",
       "    .dataframe tbody tr th {\n",
       "        vertical-align: top;\n",
       "    }\n",
       "\n",
       "    .dataframe thead th {\n",
       "        text-align: right;\n",
       "    }\n",
       "</style>\n",
       "<table border=\"1\" class=\"dataframe\">\n",
       "  <thead>\n",
       "    <tr style=\"text-align: right;\">\n",
       "      <th></th>\n",
       "      <th>generated_question</th>\n",
       "      <th>context</th>\n",
       "    </tr>\n",
       "  </thead>\n",
       "  <tbody>\n",
       "    <tr>\n",
       "      <th>0</th>\n",
       "      <td>Who is the clinical study sponsor?</td>\n",
       "      <td>\\nClinical Study Sponsor: \\nKite Pharma, Inc.\\n2400 Broadway\\nSanta Monica, CA 90404\\nUnited States of America\\nKey Sponsor Contacts: \\nClinical Development\\nKite Pharma, Inc.\\n2 Roundwood Avenue\\nStockley Park\\nUxbridge, Middlesex\\nPhone:\\nEmail:\\nClinical Development\\nKite Pharma Inc.\\n2400 Broadway\\nSanta Monica, CA 90404\\nPhone:\\nEmail:\\nClinical Operations\\nKite Pharma, Inc.\\n2400 Broadway\\nSanta Monica, CA 90404\\nPhone:\\nEmail:</td>\n",
       "    </tr>\n",
       "    <tr>\n",
       "      <th>1</th>\n",
       "      <td>What phase is being described in the context?</td>\n",
       "      <td>Study Objectives \\nPhase 1 Study\\nThe primary objective of Phase 1 is to evaluate the safety of axicabtagene ciloleucel regimens.</td>\n",
       "    </tr>\n",
       "    <tr>\n",
       "      <th>2</th>\n",
       "      <td>What is being evaluated in Phase 1?</td>\n",
       "      <td>Study Objectives \\nPhase 1 Study\\nThe primary objective of Phase 1 is to evaluate the safety of axicabtagene ciloleucel regimens.</td>\n",
       "    </tr>\n",
       "    <tr>\n",
       "      <th>3</th>\n",
       "      <td>How many subjects are anticipated to be enrolled and dosed in this study?</td>\n",
       "      <td>\\n3.3. \\nNumber of Subjects\\nParticipants in this trial will be referred to as “subjects”. It is anticipated that approximately 268 to 286 subjects will be enrolled and dosed in this study as defined below:\\nPhase 1 study: approximately 6 to 24 subjects\\nPhase 2 pivotal study: approximately 92 subjects enrolled into 2 cohorts\\nCohort 1: approximately 72 subjects\\nCohort 2: approximately 20 subjects\\nPhase 2 safety management study: approximately 170 subjects enrolled and dosed within 4 cohorts\\nCohort 3: approximately 40 subjects\\nCohort 4: approximately 40 subjects\\nCohort 5: approximately 50 subjects\\nCohort 6: approximately 40 subjects\\nIt should be noted that Kite Pharma may choose to close enrollment at any time. Please refer to the statistical considerations section of the protocol for sample size estimations.\\n</td>\n",
       "    </tr>\n",
       "  </tbody>\n",
       "</table>\n",
       "</div>"
      ],
      "text/plain": [
       "                                                            generated_question  \\\n",
       "0                                           Who is the clinical study sponsor?   \n",
       "1                                What phase is being described in the context?   \n",
       "2                                          What is being evaluated in Phase 1?   \n",
       "3  How many subjects are anticipated to be enrolled and dosed in this study?     \n",
       "\n",
       "                                                                                                                                                                                                                                                                                                                                                                                                                                                                                                                                                                                                                                                                                                                                                                                                                                                         context  \n",
       "0                                                                                                                                                                                                                                                                                                                                                                                                          \\nClinical Study Sponsor: \\nKite Pharma, Inc.\\n2400 Broadway\\nSanta Monica, CA 90404\\nUnited States of America\\nKey Sponsor Contacts: \\nClinical Development\\nKite Pharma, Inc.\\n2 Roundwood Avenue\\nStockley Park\\nUxbridge, Middlesex\\nPhone:\\nEmail:\\nClinical Development\\nKite Pharma Inc.\\n2400 Broadway\\nSanta Monica, CA 90404\\nPhone:\\nEmail:\\nClinical Operations\\nKite Pharma, Inc.\\n2400 Broadway\\nSanta Monica, CA 90404\\nPhone:\\nEmail:  \n",
       "1                                                                                                                                                                                                                                                                                                                                                                                                                                                                                                                                                                                                                                                                                                                              Study Objectives \\nPhase 1 Study\\nThe primary objective of Phase 1 is to evaluate the safety of axicabtagene ciloleucel regimens.  \n",
       "2                                                                                                                                                                                                                                                                                                                                                                                                                                                                                                                                                                                                                                                                                                                              Study Objectives \\nPhase 1 Study\\nThe primary objective of Phase 1 is to evaluate the safety of axicabtagene ciloleucel regimens.  \n",
       "3  \\n3.3. \\nNumber of Subjects\\nParticipants in this trial will be referred to as “subjects”. It is anticipated that approximately 268 to 286 subjects will be enrolled and dosed in this study as defined below:\\nPhase 1 study: approximately 6 to 24 subjects\\nPhase 2 pivotal study: approximately 92 subjects enrolled into 2 cohorts\\nCohort 1: approximately 72 subjects\\nCohort 2: approximately 20 subjects\\nPhase 2 safety management study: approximately 170 subjects enrolled and dosed within 4 cohorts\\nCohort 3: approximately 40 subjects\\nCohort 4: approximately 40 subjects\\nCohort 5: approximately 50 subjects\\nCohort 6: approximately 40 subjects\\nIt should be noted that Kite Pharma may choose to close enrollment at any time. Please refer to the statistical considerations section of the protocol for sample size estimations.\\n  "
      ]
     },
     "execution_count": 7,
     "metadata": {},
     "output_type": "execute_result"
    }
   ],
   "source": [
    "data = {\n",
    "    \"generated_question\": [\n",
    "        \"Who is the clinical study sponsor?\",\n",
    "        \"What phase is being described in the context?\",\n",
    "        \"What is being evaluated in Phase 1?\",\n",
    "        \"How many subjects are anticipated to be enrolled and dosed in this study?  \",\n",
    "    ],\n",
    "    \"context\": [\n",
    "        \"\"\"\n",
    "Clinical Study Sponsor: \n",
    "Kite Pharma, Inc.\n",
    "2400 Broadway\n",
    "Santa Monica, CA 90404\n",
    "United States of America\n",
    "Key Sponsor Contacts: \n",
    "Clinical Development\n",
    "Kite Pharma, Inc.\n",
    "2 Roundwood Avenue\n",
    "Stockley Park\n",
    "Uxbridge, Middlesex\n",
    "Phone:\n",
    "Email:\n",
    "Clinical Development\n",
    "Kite Pharma Inc.\n",
    "2400 Broadway\n",
    "Santa Monica, CA 90404\n",
    "Phone:\n",
    "Email:\n",
    "Clinical Operations\n",
    "Kite Pharma, Inc.\n",
    "2400 Broadway\n",
    "Santa Monica, CA 90404\n",
    "Phone:\n",
    "Email:\"\"\",\n",
    "        \"\"\"Study Objectives \n",
    "Phase 1 Study\n",
    "The primary objective of Phase 1 is to evaluate the safety of axicabtagene ciloleucel regimens.\"\"\",\n",
    "        \"\"\"Study Objectives \n",
    "Phase 1 Study\n",
    "The primary objective of Phase 1 is to evaluate the safety of axicabtagene ciloleucel regimens.\"\"\",\n",
    "        \"\"\"\n",
    "3.3. \n",
    "Number of Subjects\n",
    "Participants in this trial will be referred to as “subjects”. It is anticipated that approximately 268 to 286 subjects will be enrolled and dosed in this study as defined below:\n",
    "Phase 1 study: approximately 6 to 24 subjects\n",
    "Phase 2 pivotal study: approximately 92 subjects enrolled into 2 cohorts\n",
    "Cohort 1: approximately 72 subjects\n",
    "Cohort 2: approximately 20 subjects\n",
    "Phase 2 safety management study: approximately 170 subjects enrolled and dosed within 4 cohorts\n",
    "Cohort 3: approximately 40 subjects\n",
    "Cohort 4: approximately 40 subjects\n",
    "Cohort 5: approximately 50 subjects\n",
    "Cohort 6: approximately 40 subjects\n",
    "It should be noted that Kite Pharma may choose to close enrollment at any time. Please refer to the statistical considerations section of the protocol for sample size estimations.\n",
    "\"\"\",\n",
    "    ],\n",
    "    # 'ID' : [1,1,2],\n",
    "    # 'QID': [0,1,2]\n",
    "}\n",
    "\n",
    "# Load dataset\n",
    "dataset = pd.DataFrame(data)\n",
    "dataset"
   ]
  },
  {
   "cell_type": "markdown",
   "metadata": {},
   "source": [
    "## Preprocess Dataset"
   ]
  },
  {
   "cell_type": "code",
   "execution_count": 8,
   "metadata": {},
   "outputs": [],
   "source": [
    "# Run to create unique question ID\n",
    "dataset[\"QID\"] = pd.factorize(dataset[\"generated_question\"])[0].astype(str)\n",
    "# Run to create unique context ID\n",
    "dataset[\"ID\"] = pd.factorize(dataset[\"context\"])[0].astype(str)\n",
    "dataset[\"ID\"] = dataset[\"ID\"].astype(str)\n",
    "unique_context = dataset[\"context\"].unique()\n",
    "unique_context_id = dataset[\"ID\"].unique()\n",
    "# unique_context_id"
   ]
  },
  {
   "cell_type": "code",
   "execution_count": 9,
   "metadata": {},
   "outputs": [
    {
     "data": {
      "text/html": [
       "<div>\n",
       "<style scoped>\n",
       "    .dataframe tbody tr th:only-of-type {\n",
       "        vertical-align: middle;\n",
       "    }\n",
       "\n",
       "    .dataframe tbody tr th {\n",
       "        vertical-align: top;\n",
       "    }\n",
       "\n",
       "    .dataframe thead th {\n",
       "        text-align: right;\n",
       "    }\n",
       "</style>\n",
       "<table border=\"1\" class=\"dataframe\">\n",
       "  <thead>\n",
       "    <tr style=\"text-align: right;\">\n",
       "      <th></th>\n",
       "      <th>generated_question</th>\n",
       "      <th>context</th>\n",
       "      <th>QID</th>\n",
       "      <th>ID</th>\n",
       "    </tr>\n",
       "  </thead>\n",
       "  <tbody>\n",
       "    <tr>\n",
       "      <th>0</th>\n",
       "      <td>Who is the clinical study sponsor?</td>\n",
       "      <td>\\nClinical Study Sponsor: \\nKite Pharma, Inc.\\n2400 Broadway\\nSanta Monica, CA 90404\\nUnited States of America\\nKey Sponsor Contacts: \\nClinical Development\\nKite Pharma, Inc.\\n2 Roundwood Avenue\\nStockley Park\\nUxbridge, Middlesex\\nPhone:\\nEmail:\\nClinical Development\\nKite Pharma Inc.\\n2400 Broadway\\nSanta Monica, CA 90404\\nPhone:\\nEmail:\\nClinical Operations\\nKite Pharma, Inc.\\n2400 Broadway\\nSanta Monica, CA 90404\\nPhone:\\nEmail:</td>\n",
       "      <td>0</td>\n",
       "      <td>0</td>\n",
       "    </tr>\n",
       "    <tr>\n",
       "      <th>1</th>\n",
       "      <td>What phase is being described in the context?</td>\n",
       "      <td>Study Objectives \\nPhase 1 Study\\nThe primary objective of Phase 1 is to evaluate the safety of axicabtagene ciloleucel regimens.</td>\n",
       "      <td>1</td>\n",
       "      <td>1</td>\n",
       "    </tr>\n",
       "    <tr>\n",
       "      <th>2</th>\n",
       "      <td>What is being evaluated in Phase 1?</td>\n",
       "      <td>Study Objectives \\nPhase 1 Study\\nThe primary objective of Phase 1 is to evaluate the safety of axicabtagene ciloleucel regimens.</td>\n",
       "      <td>2</td>\n",
       "      <td>1</td>\n",
       "    </tr>\n",
       "    <tr>\n",
       "      <th>3</th>\n",
       "      <td>How many subjects are anticipated to be enrolled and dosed in this study?</td>\n",
       "      <td>\\n3.3. \\nNumber of Subjects\\nParticipants in this trial will be referred to as “subjects”. It is anticipated that approximately 268 to 286 subjects will be enrolled and dosed in this study as defined below:\\nPhase 1 study: approximately 6 to 24 subjects\\nPhase 2 pivotal study: approximately 92 subjects enrolled into 2 cohorts\\nCohort 1: approximately 72 subjects\\nCohort 2: approximately 20 subjects\\nPhase 2 safety management study: approximately 170 subjects enrolled and dosed within 4 cohorts\\nCohort 3: approximately 40 subjects\\nCohort 4: approximately 40 subjects\\nCohort 5: approximately 50 subjects\\nCohort 6: approximately 40 subjects\\nIt should be noted that Kite Pharma may choose to close enrollment at any time. Please refer to the statistical considerations section of the protocol for sample size estimations.\\n</td>\n",
       "      <td>3</td>\n",
       "      <td>2</td>\n",
       "    </tr>\n",
       "  </tbody>\n",
       "</table>\n",
       "</div>"
      ],
      "text/plain": [
       "                                                            generated_question  \\\n",
       "0                                           Who is the clinical study sponsor?   \n",
       "1                                What phase is being described in the context?   \n",
       "2                                          What is being evaluated in Phase 1?   \n",
       "3  How many subjects are anticipated to be enrolled and dosed in this study?     \n",
       "\n",
       "                                                                                                                                                                                                                                                                                                                                                                                                                                                                                                                                                                                                                                                                                                                                                                                                                                                         context  \\\n",
       "0                                                                                                                                                                                                                                                                                                                                                                                                          \\nClinical Study Sponsor: \\nKite Pharma, Inc.\\n2400 Broadway\\nSanta Monica, CA 90404\\nUnited States of America\\nKey Sponsor Contacts: \\nClinical Development\\nKite Pharma, Inc.\\n2 Roundwood Avenue\\nStockley Park\\nUxbridge, Middlesex\\nPhone:\\nEmail:\\nClinical Development\\nKite Pharma Inc.\\n2400 Broadway\\nSanta Monica, CA 90404\\nPhone:\\nEmail:\\nClinical Operations\\nKite Pharma, Inc.\\n2400 Broadway\\nSanta Monica, CA 90404\\nPhone:\\nEmail:   \n",
       "1                                                                                                                                                                                                                                                                                                                                                                                                                                                                                                                                                                                                                                                                                                                              Study Objectives \\nPhase 1 Study\\nThe primary objective of Phase 1 is to evaluate the safety of axicabtagene ciloleucel regimens.   \n",
       "2                                                                                                                                                                                                                                                                                                                                                                                                                                                                                                                                                                                                                                                                                                                              Study Objectives \\nPhase 1 Study\\nThe primary objective of Phase 1 is to evaluate the safety of axicabtagene ciloleucel regimens.   \n",
       "3  \\n3.3. \\nNumber of Subjects\\nParticipants in this trial will be referred to as “subjects”. It is anticipated that approximately 268 to 286 subjects will be enrolled and dosed in this study as defined below:\\nPhase 1 study: approximately 6 to 24 subjects\\nPhase 2 pivotal study: approximately 92 subjects enrolled into 2 cohorts\\nCohort 1: approximately 72 subjects\\nCohort 2: approximately 20 subjects\\nPhase 2 safety management study: approximately 170 subjects enrolled and dosed within 4 cohorts\\nCohort 3: approximately 40 subjects\\nCohort 4: approximately 40 subjects\\nCohort 5: approximately 50 subjects\\nCohort 6: approximately 40 subjects\\nIt should be noted that Kite Pharma may choose to close enrollment at any time. Please refer to the statistical considerations section of the protocol for sample size estimations.\\n   \n",
       "\n",
       "  QID ID  \n",
       "0   0  0  \n",
       "1   1  1  \n",
       "2   2  1  \n",
       "3   3  2  "
      ]
     },
     "execution_count": 9,
     "metadata": {},
     "output_type": "execute_result"
    }
   ],
   "source": [
    "dataset"
   ]
  },
  {
   "cell_type": "code",
   "execution_count": null,
   "metadata": {},
   "outputs": [],
   "source": [
    "dataset.to_csv(DB_PATH, index=False)"
   ]
  },
  {
   "cell_type": "markdown",
   "metadata": {},
   "source": [
    "## Create COLBERT vector-database of contexts"
   ]
  },
  {
   "cell_type": "code",
   "execution_count": 19,
   "metadata": {},
   "outputs": [],
   "source": [
    "import numpy as np\n",
    "from ragatouille import RAGPretrainedModel"
   ]
  },
  {
   "cell_type": "code",
   "execution_count": null,
   "metadata": {},
   "outputs": [],
   "source": [
    "%%time\n",
    "# creates a folder at 'VECTOR_DB_PATH/colbert/indexes/Colbert-Experimental'\n",
    "RAG = RAGPretrainedModel.from_pretrained(\n",
    "    \"colbert-ir/colbertv2.0\", index_root=VECTOR_DB_PATH\n",
    ")\n",
    "\n",
    "RAG.index(\n",
    "    collection=unique_context,\n",
    "    document_ids=unique_context_id,\n",
    "    index_name=\"Colbert-Experimental\",\n",
    "    overwrite_index=True,\n",
    "    max_document_length=256,\n",
    "    split_documents=True,\n",
    ")"
   ]
  },
  {
   "cell_type": "markdown",
   "metadata": {},
   "source": [
    "## Create Metadata"
   ]
  },
  {
   "cell_type": "code",
   "execution_count": 10,
   "metadata": {},
   "outputs": [],
   "source": [
    "from langchain_community.utilities.miimansa import MiimansaUtility"
   ]
  },
  {
   "cell_type": "code",
   "execution_count": 13,
   "metadata": {},
   "outputs": [
    {
     "name": "stdout",
     "output_type": "stream",
     "text": [
      "Creating mappings...\n",
      "Computing embeddings...\n",
      "Metadata saved at ./output/metadata.pkl\n"
     ]
    }
   ],
   "source": [
    "MiimansaUtility.prepare_metadata(DB_PATH, DIRECT_HIT_MODEL, METADATA_PATH)"
   ]
  },
  {
   "cell_type": "markdown",
   "metadata": {},
   "source": [
    "## Retrieve relevant documents"
   ]
  },
  {
   "cell_type": "code",
   "execution_count": 11,
   "metadata": {},
   "outputs": [],
   "source": [
    "import joblib\n",
    "from langchain_community.retrievers.miimansa import MiimansaClinicalTextRetriever\n",
    "from sentence_transformers import SentenceTransformer"
   ]
  },
  {
   "cell_type": "code",
   "execution_count": 14,
   "metadata": {},
   "outputs": [],
   "source": [
    "metadata = joblib.load(METADATA_PATH)\n",
    "direct_hit_model = SentenceTransformer(DIRECT_HIT_MODEL)"
   ]
  },
  {
   "cell_type": "code",
   "execution_count": 22,
   "metadata": {},
   "outputs": [],
   "source": [
    "RAG = MiimansaClinicalTextRetriever.from_index(\n",
    "    \"output/colbert/indexes/Colbert-Experimental\"\n",
    ")\n",
    "retriever = RAG.as_langchain_retriever(\n",
    "    metadata=metadata,\n",
    "    direct_hit_model=direct_hit_model,\n",
    "    direct_hit_threshold=0.91,\n",
    "    log_direct_hit=True,\n",
    "    log_dir=\"./logs\",\n",
    "    k=5,\n",
    ")"
   ]
  },
  {
   "cell_type": "markdown",
   "metadata": {},
   "source": [
    "### Direct Hit example"
   ]
  },
  {
   "cell_type": "code",
   "execution_count": 23,
   "metadata": {},
   "outputs": [
    {
     "data": {
      "text/plain": [
       "[Document(page_content='\\nClinical Study Sponsor: \\nKite Pharma, Inc.\\n2400 Broadway\\nSanta Monica, CA 90404\\nUnited States of America\\nKey Sponsor Contacts: \\nClinical Development\\nKite Pharma, Inc.\\n2 Roundwood Avenue\\nStockley Park\\nUxbridge, Middlesex\\nPhone:\\nEmail:\\nClinical Development\\nKite Pharma Inc.\\n2400 Broadway\\nSanta Monica, CA 90404\\nPhone:\\nEmail:\\nClinical Operations\\nKite Pharma, Inc.\\n2400 Broadway\\nSanta Monica, CA 90404\\nPhone:\\nEmail:')]"
      ]
     },
     "execution_count": 23,
     "metadata": {},
     "output_type": "execute_result"
    }
   ],
   "source": [
    "retriever.get_relevant_documents(\"Who is the clinical study sponsor ?\")"
   ]
  },
  {
   "cell_type": "markdown",
   "metadata": {},
   "source": [
    "### Non-direct Hit example"
   ]
  },
  {
   "cell_type": "code",
   "execution_count": 25,
   "metadata": {},
   "outputs": [
    {
     "name": "stdout",
     "output_type": "stream",
     "text": [
      "WARNING: k value is larger than the number of documents in the index! Lowering k to 3...\n"
     ]
    },
    {
     "data": {
      "text/plain": [
       "[Document(page_content='\\nClinical Study Sponsor: \\nKite Pharma, Inc.\\n2400 Broadway\\nSanta Monica, CA 90404\\nUnited States of America\\nKey Sponsor Contacts: \\nClinical Development\\nKite Pharma, Inc.\\n2 Roundwood Avenue\\nStockley Park\\nUxbridge, Middlesex\\nPhone:\\nEmail:\\nClinical Development\\nKite Pharma Inc.\\n2400 Broadway\\nSanta Monica, CA 90404\\nPhone:\\nEmail:\\nClinical Operations\\nKite Pharma, Inc.\\n2400 Broadway\\nSanta Monica, CA 90404\\nPhone:\\nEmail:'),\n",
       " Document(page_content='Study Objectives \\nPhase 1 Study\\nThe primary objective of Phase 1 is to evaluate the safety of axicabtagene ciloleucel regimens.'),\n",
       " Document(page_content='\\n3.3. \\nNumber of Subjects\\nParticipants in this trial will be referred to as “subjects”. It is anticipated that approximately 268 to 286 subjects will be enrolled and dosed in this study as defined below:\\nPhase 1 study: approximately 6 to 24 subjects\\nPhase 2 pivotal study: approximately 92 subjects enrolled into 2 cohorts\\nCohort 1: approximately 72 subjects\\nCohort 2: approximately 20 subjects\\nPhase 2 safety management study: approximately 170 subjects enrolled and dosed within 4 cohorts\\nCohort 3: approximately 40 subjects\\nCohort 4: approximately 40 subjects\\nCohort 5: approximately 50 subjects\\nCohort 6: approximately 40 subjects\\nIt should be noted that Kite Pharma may choose to close enrollment at any time. Please refer to the statistical considerations section of the protocol for sample size estimations.\\n')]"
      ]
     },
     "execution_count": 25,
     "metadata": {},
     "output_type": "execute_result"
    }
   ],
   "source": [
    "retriever.get_relevant_documents(\"Who is the sponsor?\")"
   ]
  },
  {
   "cell_type": "code",
   "execution_count": null,
   "metadata": {},
   "outputs": [],
   "source": []
  }
 ],
 "metadata": {
  "kernelspec": {
   "display_name": "Python 3 (ipykernel)",
   "language": "python",
   "name": "python3"
  },
  "language_info": {
   "codemirror_mode": {
    "name": "ipython",
    "version": 3
   },
   "file_extension": ".py",
   "mimetype": "text/x-python",
   "name": "python",
   "nbconvert_exporter": "python",
   "pygments_lexer": "ipython3",
   "version": "3.10.12"
  }
 },
 "nbformat": 4,
 "nbformat_minor": 4
}
